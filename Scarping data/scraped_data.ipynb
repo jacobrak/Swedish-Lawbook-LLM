{
 "cells": [
  {
   "cell_type": "code",
   "execution_count": 41,
   "id": "2e89bece-5e98-445a-85e3-04fc784632fd",
   "metadata": {},
   "outputs": [],
   "source": [
    "import re\n",
    "import requests\n",
    "from bs4 import BeautifulSoup\n",
    "import random\n",
    "import socket\n",
    "\n",
    "def scrapelag(url):\n",
    "    total_content = \"\"\n",
    "    try:\n",
    "        response = requests.get(url)\n",
    "        response.raise_for_status()  \n",
    "    except (requests.RequestException, socket.gaierror) as e:\n",
    "        print(\"Error fetching URL:\", e)\n",
    "        return\n",
    "\n",
    "    soup = BeautifulSoup(response.content, 'html.parser')\n",
    "\n",
    "    td_elements = soup.find_all('td')\n",
    "\n",
    "    for td in td_elements:\n",
    "        link_elements = td.find_all('a', href=True)\n",
    "        \n",
    "        for link in link_elements:\n",
    "            link_url = link['href']\n",
    "            try:\n",
    "                # Make request to the link URL\n",
    "                link_response = requests.get(link_url)\n",
    "                link_response.raise_for_status()\n",
    "            except requests.RequestException as e:\n",
    "                print(\"Error fetching link URL:\", e)\n",
    "                continue\n",
    "            \n",
    "            link_soup = BeautifulSoup(link_response.content, 'html.parser')\n",
    "            \n",
    "            # Find all <p> elements and extract their text\n",
    "            p_elements = link_soup.find_all('p')\n",
    "            for p in p_elements:\n",
    "                total_content += p.text\n",
    "    return total_content\n"
   ]
  },
  {
   "cell_type": "code",
   "execution_count": 42,
   "id": "f9d1bc4d-2a7b-4a9d-8419-eca5169af5c6",
   "metadata": {},
   "outputs": [
    {
     "name": "stdout",
     "output_type": "stream",
     "text": [
      "Error fetching link URL: 404 Client Error: Not Found for url: https://lagen.nu/2018:653\n"
     ]
    }
   ],
   "source": [
    "data = scrapelag(\"https://lagen.nu/\")"
   ]
  },
  {
   "cell_type": "code",
   "execution_count": 44,
   "id": "82fe06f0-a9f1-4441-af40-34145f98eb85",
   "metadata": {},
   "outputs": [
    {
     "data": {
      "text/plain": [
       "'om denne orsakat. För sådan kostnad svarar inte part som yrkat konkurrensskadeavgift.'"
      ]
     },
     "execution_count": 44,
     "metadata": {},
     "output_type": "execute_result"
    }
   ],
   "source": [
    "data[11358700:]"
   ]
  },
  {
   "cell_type": "code",
   "execution_count": 45,
   "id": "40f32184-a60b-4f2c-a79f-c8e5a07a1a5a",
   "metadata": {},
   "outputs": [],
   "source": [
    "file_path = r\"C:\\Users\\felik\\Documents\\Projects\\Wikipedia_LLM\\lag_data.txt\"\n",
    "\n",
    "with open(file_path, \"w\", encoding=\"utf-8\") as file:\n",
    "    file.write(data)\n",
    "\n"
   ]
  }
 ],
 "metadata": {
  "kernelspec": {
   "display_name": "Python 3 (ipykernel)",
   "language": "python",
   "name": "python3"
  },
  "language_info": {
   "codemirror_mode": {
    "name": "ipython",
    "version": 3
   },
   "file_extension": ".py",
   "mimetype": "text/x-python",
   "name": "python",
   "nbconvert_exporter": "python",
   "pygments_lexer": "ipython3",
   "version": "3.12.1"
  }
 },
 "nbformat": 4,
 "nbformat_minor": 5
}
